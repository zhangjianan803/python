{
 "cells": [
  {
   "cell_type": "code",
   "execution_count": 3,
   "metadata": {
    "collapsed": false
   },
   "outputs": [],
   "source": [
    "import pandas as pd\n",
    "import numpy as np\n",
    "import matplotlib as mpl\n",
    "import matplotlib.pyplot as plt\n",
    "\n",
    "import sklearn\n",
    "from sklearn.feature_extraction.text import CountVectorizer,TfidfTransformer\n",
    "from sklearn.decomposition import TruncatedSVD\n",
    "from sklearn.linear_model import LogisticRegressionCV\n",
    "from sklearn.model_selection import train_test_split"
   ]
  },
  {
   "cell_type": "code",
   "execution_count": 4,
   "metadata": {
    "collapsed": false
   },
   "outputs": [],
   "source": [
    "## 设置字符集，防止中文乱码\n",
    "mpl.rcParams['font.sans-serif']=[u'simHei']\n",
    "mpl.rcParams['axes.unicode_minus']=False"
   ]
  },
  {
   "cell_type": "code",
   "execution_count": 5,
   "metadata": {
    "collapsed": true
   },
   "outputs": [],
   "source": [
    "# jupyter展示图片，非内嵌显示\n",
    "# tk: 显示出来，inline：内嵌显示，默认为inline\n",
    "%matplotlib tk"
   ]
  },
  {
   "cell_type": "code",
   "execution_count": 6,
   "metadata": {
    "collapsed": false
   },
   "outputs": [
    {
     "data": {
      "text/html": [
       "<div>\n",
       "<table border=\"1\" class=\"dataframe\">\n",
       "  <thead>\n",
       "    <tr style=\"text-align: right;\">\n",
       "      <th></th>\n",
       "      <th>label</th>\n",
       "      <th>has_date</th>\n",
       "      <th>jieba_cut_content</th>\n",
       "      <th>content_sema</th>\n",
       "    </tr>\n",
       "  </thead>\n",
       "  <tbody>\n",
       "    <tr>\n",
       "      <th>0</th>\n",
       "      <td>1.0</td>\n",
       "      <td>1</td>\n",
       "      <td>非  财务  纠淼  牟  莆  窆  芾  -  （  沙盘  模拟  ）  -  -  ...</td>\n",
       "      <td>8.456151</td>\n",
       "    </tr>\n",
       "    <tr>\n",
       "      <th>1</th>\n",
       "      <td>0.0</td>\n",
       "      <td>1</td>\n",
       "      <td>讲  的  是  孔子  后人  的  故事  。  一个  老  领导  回到  家乡  ...</td>\n",
       "      <td>7.486084</td>\n",
       "    </tr>\n",
       "    <tr>\n",
       "      <th>2</th>\n",
       "      <td>1.0</td>\n",
       "      <td>1</td>\n",
       "      <td>尊敬  的  贵  公司  (  财务  /  经理  )  负责人  您好  ！  我  ...</td>\n",
       "      <td>7.175171</td>\n",
       "    </tr>\n",
       "    <tr>\n",
       "      <th>3</th>\n",
       "      <td>1.0</td>\n",
       "      <td>1</td>\n",
       "      <td>贵  公司  负责人  (  经理  /  财务  ）  您好  ：  深圳市  华龙  公...</td>\n",
       "      <td>7.565682</td>\n",
       "    </tr>\n",
       "    <tr>\n",
       "      <th>4</th>\n",
       "      <td>1.0</td>\n",
       "      <td>1</td>\n",
       "      <td>这是  一封  HTML  格式  信件  ！  -  -  -  -  -  -  -  ...</td>\n",
       "      <td>2.063409</td>\n",
       "    </tr>\n",
       "    <tr>\n",
       "      <th>5</th>\n",
       "      <td>1.0</td>\n",
       "      <td>1</td>\n",
       "      <td>TO  ：  贵  公司  经理  、  财务  您好  ！  深圳市  春洋  贸易  有...</td>\n",
       "      <td>7.143747</td>\n",
       "    </tr>\n",
       "    <tr>\n",
       "      <th>6</th>\n",
       "      <td>0.0</td>\n",
       "      <td>1</td>\n",
       "      <td>那  他  为什么  不  愿意  起诉  ，  既然  这样  了  ！  起诉  后  ...</td>\n",
       "      <td>4.807568</td>\n",
       "    </tr>\n",
       "    <tr>\n",
       "      <th>7</th>\n",
       "      <td>1.0</td>\n",
       "      <td>1</td>\n",
       "      <td>尊敬  的  负责人  （  经理  ／  财务  ）  ：  您好  ！  我  是  深...</td>\n",
       "      <td>6.593684</td>\n",
       "    </tr>\n",
       "    <tr>\n",
       "      <th>8</th>\n",
       "      <td>1.0</td>\n",
       "      <td>1</td>\n",
       "      <td>您好     以下  是  特别  为  阁下  发  的  香港  信息  (  图片  ...</td>\n",
       "      <td>7.611074</td>\n",
       "    </tr>\n",
       "    <tr>\n",
       "      <th>9</th>\n",
       "      <td>0.0</td>\n",
       "      <td>1</td>\n",
       "      <td>我  觉得  ，  负债  不要紧  ，  最  重要  的  是  能  负得起  这个 ...</td>\n",
       "      <td>7.041340</td>\n",
       "    </tr>\n",
       "  </tbody>\n",
       "</table>\n",
       "</div>"
      ],
      "text/plain": [
       "   label  has_date                                  jieba_cut_content  \\\n",
       "0    1.0         1  非  财务  纠淼  牟  莆  窆  芾  -  （  沙盘  模拟  ）  -  -  ...   \n",
       "1    0.0         1  讲  的  是  孔子  后人  的  故事  。  一个  老  领导  回到  家乡  ...   \n",
       "2    1.0         1  尊敬  的  贵  公司  (  财务  /  经理  )  负责人  您好  ！  我  ...   \n",
       "3    1.0         1  贵  公司  负责人  (  经理  /  财务  ）  您好  ：  深圳市  华龙  公...   \n",
       "4    1.0         1  这是  一封  HTML  格式  信件  ！  -  -  -  -  -  -  -  ...   \n",
       "5    1.0         1  TO  ：  贵  公司  经理  、  财务  您好  ！  深圳市  春洋  贸易  有...   \n",
       "6    0.0         1  那  他  为什么  不  愿意  起诉  ，  既然  这样  了  ！  起诉  后  ...   \n",
       "7    1.0         1  尊敬  的  负责人  （  经理  ／  财务  ）  ：  您好  ！  我  是  深...   \n",
       "8    1.0         1  您好     以下  是  特别  为  阁下  发  的  香港  信息  (  图片  ...   \n",
       "9    0.0         1  我  觉得  ，  负债  不要紧  ，  最  重要  的  是  能  负得起  这个 ...   \n",
       "\n",
       "   content_sema  \n",
       "0      8.456151  \n",
       "1      7.486084  \n",
       "2      7.175171  \n",
       "3      7.565682  \n",
       "4      2.063409  \n",
       "5      7.143747  \n",
       "6      4.807568  \n",
       "7      6.593684  \n",
       "8      7.611074  \n",
       "9      7.041340  "
      ]
     },
     "execution_count": 6,
     "metadata": {},
     "output_type": "execute_result"
    }
   ],
   "source": [
    "# 1. 文件数据读取\n",
    "df = pd.read_csv('../data/result_process02', sep=',')\n",
    "df.head(10)"
   ]
  },
  {
   "cell_type": "code",
   "execution_count": 7,
   "metadata": {
    "collapsed": false
   },
   "outputs": [
    {
     "name": "stdout",
     "output_type": "stream",
     "text": [
      "<class 'pandas.core.frame.DataFrame'>\n",
      "RangeIndex: 64620 entries, 0 to 64619\n",
      "Data columns (total 4 columns):\n",
      "label                64619 non-null float64\n",
      "has_date             64620 non-null int64\n",
      "jieba_cut_content    64284 non-null object\n",
      "content_sema         64620 non-null float64\n",
      "dtypes: float64(2), int64(1), object(1)\n",
      "memory usage: 2.0+ MB\n"
     ]
    }
   ],
   "source": [
    "df.info()"
   ]
  },
  {
   "cell_type": "code",
   "execution_count": 20,
   "metadata": {
    "collapsed": false
   },
   "outputs": [
    {
     "name": "stdout",
     "output_type": "stream",
     "text": [
      "训练数据集大小:51696\n",
      "测试数据集大小:12924\n"
     ]
    }
   ],
   "source": [
    "# 2. 数据分割\n",
    "x_train, x_test, y_train, y_test = train_test_split(df[['has_date','jieba_cut_content','content_sema']], df['label'], test_size=0.2, random_state=0)\n",
    "print(\"训练数据集大小:%d\" % x_train.shape[0])\n",
    "print(\"测试数据集大小:%d\" % x_test.shape[0])"
   ]
  },
  {
   "cell_type": "code",
   "execution_count": 21,
   "metadata": {
    "collapsed": false
   },
   "outputs": [
    {
     "data": {
      "text/html": [
       "<div>\n",
       "<table border=\"1\" class=\"dataframe\">\n",
       "  <thead>\n",
       "    <tr style=\"text-align: right;\">\n",
       "      <th></th>\n",
       "      <th>has_date</th>\n",
       "      <th>jieba_cut_content</th>\n",
       "      <th>content_sema</th>\n",
       "    </tr>\n",
       "  </thead>\n",
       "  <tbody>\n",
       "    <tr>\n",
       "      <th>42325</th>\n",
       "      <td>1</td>\n",
       "      <td>感谢您  打开  本  公司  邮件  ，  祝您  工作  顺利  ，  生意兴隆  ！ ...</td>\n",
       "      <td>3.798726</td>\n",
       "    </tr>\n",
       "    <tr>\n",
       "      <th>14673</th>\n",
       "      <td>1</td>\n",
       "      <td>他  结婚  前  那种  口气  和  呢  爸爸  说话  的  时候  ，  呢  酒...</td>\n",
       "      <td>7.580747</td>\n",
       "    </tr>\n",
       "    <tr>\n",
       "      <th>49644</th>\n",
       "      <td>1</td>\n",
       "      <td>我  和  gg  想  十一  去  泰山  ，  曲阜  等  地  ，  一共  三天...</td>\n",
       "      <td>5.220846</td>\n",
       "    </tr>\n",
       "    <tr>\n",
       "      <th>62007</th>\n",
       "      <td>1</td>\n",
       "      <td>cissp  ：  您好  ！  从  网上  看到  您  的  邮址  ，  冒昧  给...</td>\n",
       "      <td>7.231017</td>\n",
       "    </tr>\n",
       "    <tr>\n",
       "      <th>27725</th>\n",
       "      <td>1</td>\n",
       "      <td>KR  -  PC  和  G  型  温湿度  遥控  系统  是  广州  庆瑞  电子...</td>\n",
       "      <td>2.597746</td>\n",
       "    </tr>\n",
       "  </tbody>\n",
       "</table>\n",
       "</div>"
      ],
      "text/plain": [
       "       has_date                                  jieba_cut_content  \\\n",
       "42325         1  感谢您  打开  本  公司  邮件  ，  祝您  工作  顺利  ，  生意兴隆  ！ ...   \n",
       "14673         1  他  结婚  前  那种  口气  和  呢  爸爸  说话  的  时候  ，  呢  酒...   \n",
       "49644         1  我  和  gg  想  十一  去  泰山  ，  曲阜  等  地  ，  一共  三天...   \n",
       "62007         1  cissp  ：  您好  ！  从  网上  看到  您  的  邮址  ，  冒昧  给...   \n",
       "27725         1  KR  -  PC  和  G  型  温湿度  遥控  系统  是  广州  庆瑞  电子...   \n",
       "\n",
       "       content_sema  \n",
       "42325      3.798726  \n",
       "14673      7.580747  \n",
       "49644      5.220846  \n",
       "62007      7.231017  \n",
       "27725      2.597746  "
      ]
     },
     "execution_count": 21,
     "metadata": {},
     "output_type": "execute_result"
    }
   ],
   "source": [
    "x_train.head(5)"
   ]
  },
  {
   "cell_type": "code",
   "execution_count": 23,
   "metadata": {
    "collapsed": false
   },
   "outputs": [
    {
     "ename": "AttributeError",
     "evalue": "'numpy.ndarray' object has no attribute 'head'",
     "output_type": "error",
     "traceback": [
      "\u001b[0;31m---------------------------------------------------------------------------\u001b[0m",
      "\u001b[0;31mAttributeError\u001b[0m                            Traceback (most recent call last)",
      "\u001b[0;32m<ipython-input-23-1ca17a6c2c2e>\u001b[0m in \u001b[0;36m<module>\u001b[0;34m()\u001b[0m\n\u001b[1;32m     11\u001b[0m \u001b[0msvd_model\u001b[0m \u001b[1;33m=\u001b[0m \u001b[0msvd\u001b[0m\u001b[1;33m.\u001b[0m\u001b[0mfit\u001b[0m\u001b[1;33m(\u001b[0m\u001b[0mdf1\u001b[0m\u001b[1;33m)\u001b[0m\u001b[1;33m\u001b[0m\u001b[0m\n\u001b[1;32m     12\u001b[0m \u001b[0mdf2\u001b[0m \u001b[1;33m=\u001b[0m \u001b[0msvd_model\u001b[0m\u001b[1;33m.\u001b[0m\u001b[0mtransform\u001b[0m\u001b[1;33m(\u001b[0m\u001b[0mdf1\u001b[0m\u001b[1;33m)\u001b[0m\u001b[1;33m\u001b[0m\u001b[0m\n\u001b[0;32m---> 13\u001b[0;31m \u001b[0mdf2\u001b[0m\u001b[1;33m.\u001b[0m\u001b[0mhead\u001b[0m\u001b[1;33m(\u001b[0m\u001b[1;36m5\u001b[0m\u001b[1;33m)\u001b[0m\u001b[1;33m\u001b[0m\u001b[0m\n\u001b[0m\u001b[1;32m     14\u001b[0m \u001b[0mdf2\u001b[0m\u001b[1;33m.\u001b[0m\u001b[0minfo\u001b[0m\u001b[1;33m(\u001b[0m\u001b[1;33m)\u001b[0m\u001b[1;33m\u001b[0m\u001b[0m\n",
      "\u001b[0;31mAttributeError\u001b[0m: 'numpy.ndarray' object has no attribute 'head'"
     ]
    }
   ],
   "source": [
    "# 3. 开始模型训练\n",
    "# 3.1 特征工程，将文本数据转换为数值型数据\n",
    "vectorizer = CountVectorizer()\n",
    "transfromer = TfidfTransformer(norm='l2', use_idf=True)\n",
    "svd = TruncatedSVD(n_components=20)\n",
    "jieba_cut_content = list(x_train['jieba_cut_content'].astype('str'))\n",
    "vectorizer_model = vectorizer.fit(jieba_cut_content)\n",
    "df0 = vectorizer_model.transform(jieba_cut_content)\n",
    "transfromer_model = transfromer.fit(df0)\n",
    "df1 = transfromer_model.transform(df0)\n",
    "svd_model = svd.fit(df1)\n",
    "df2 = svd_model.transform(df1)\n",
    "data = pd.DataFrame(df2)\n",
    "print(data.head(5))\n",
    "print(data.info())"
   ]
  },
  {
   "cell_type": "code",
   "execution_count": 25,
   "metadata": {
    "collapsed": false
   },
   "outputs": [
    {
     "name": "stdout",
     "output_type": "stream",
     "text": [
      "          0         1         2         3         4         5         6  \\\n",
      "0  0.580972  0.023836  0.004217 -0.172864 -0.050395 -0.031510  0.265910   \n",
      "1  0.009848  0.104202  0.119389  0.079951 -0.097514 -0.089965  0.001998   \n",
      "2  0.011713  0.030442  0.019109  0.006414 -0.004962  0.002871  0.006360   \n",
      "3  0.053513  0.120704  0.069297 -0.030864  0.037340  0.013360  0.026196   \n",
      "4  0.015687  0.060261  0.017480 -0.021015  0.014019  0.046781  0.003174   \n",
      "\n",
      "          7         8         9      ...             12        13        14  \\\n",
      "0  0.001207  0.000653  0.009725      ...      -0.032728 -0.000214 -0.063970   \n",
      "1  0.001838 -0.002683 -0.053779      ...       0.004626  0.000593 -0.006881   \n",
      "2  0.006704  0.000361  0.001722      ...       0.002537  0.000121  0.000670   \n",
      "3  0.027286  0.005593  0.085179      ...      -0.016109  0.002305  0.048134   \n",
      "4  0.030464  0.001531  0.024273      ...       0.049679  0.000728  0.020931   \n",
      "\n",
      "         15        16        17        18        19  has_date  content_sema  \n",
      "0 -0.001014 -0.017425 -0.057294 -0.000741 -0.007027       1.0      8.456151  \n",
      "1  0.000569 -0.002701 -0.021346 -0.004816 -0.005994       1.0      7.486084  \n",
      "2  0.002688 -0.002001 -0.008683 -0.004944  0.013858       1.0      7.175171  \n",
      "3 -0.026402  0.009411 -0.084547 -0.099804 -0.081314       NaN           NaN  \n",
      "4 -0.014137 -0.016058 -0.010756 -0.026628 -0.039425       1.0      2.063409  \n",
      "\n",
      "[5 rows x 22 columns]\n",
      "<class 'pandas.core.frame.DataFrame'>\n",
      "RangeIndex: 51696 entries, 0 to 51695\n",
      "Data columns (total 22 columns):\n",
      "0               51696 non-null float64\n",
      "1               51696 non-null float64\n",
      "2               51696 non-null float64\n",
      "3               51696 non-null float64\n",
      "4               51696 non-null float64\n",
      "5               51696 non-null float64\n",
      "6               51696 non-null float64\n",
      "7               51696 non-null float64\n",
      "8               51696 non-null float64\n",
      "9               51696 non-null float64\n",
      "10              51696 non-null float64\n",
      "11              51696 non-null float64\n",
      "12              51696 non-null float64\n",
      "13              51696 non-null float64\n",
      "14              51696 non-null float64\n",
      "15              51696 non-null float64\n",
      "16              51696 non-null float64\n",
      "17              51696 non-null float64\n",
      "18              51696 non-null float64\n",
      "19              51696 non-null float64\n",
      "has_date        41389 non-null float64\n",
      "content_sema    41389 non-null float64\n",
      "dtypes: float64(22)\n",
      "memory usage: 8.7 MB\n",
      "None\n"
     ]
    }
   ],
   "source": [
    "# 3.2 数据合并\n",
    "data['has_date'] = x_train['has_date'].astype(\"float64\")\n",
    "data['content_sema'] = x_train['content_sema']\n",
    "print(data.head(5))\n",
    "print(data.info())"
   ]
  },
  {
   "cell_type": "code",
   "execution_count": 26,
   "metadata": {
    "collapsed": false
   },
   "outputs": [
    {
     "data": {
      "text/html": [
       "<div>\n",
       "<table border=\"1\" class=\"dataframe\">\n",
       "  <thead>\n",
       "    <tr style=\"text-align: right;\">\n",
       "      <th></th>\n",
       "      <th>0</th>\n",
       "      <th>1</th>\n",
       "      <th>2</th>\n",
       "      <th>3</th>\n",
       "      <th>4</th>\n",
       "      <th>5</th>\n",
       "      <th>6</th>\n",
       "      <th>7</th>\n",
       "      <th>8</th>\n",
       "      <th>9</th>\n",
       "      <th>...</th>\n",
       "      <th>12</th>\n",
       "      <th>13</th>\n",
       "      <th>14</th>\n",
       "      <th>15</th>\n",
       "      <th>16</th>\n",
       "      <th>17</th>\n",
       "      <th>18</th>\n",
       "      <th>19</th>\n",
       "      <th>has_date</th>\n",
       "      <th>content_sema</th>\n",
       "    </tr>\n",
       "  </thead>\n",
       "  <tbody>\n",
       "    <tr>\n",
       "      <th>0</th>\n",
       "      <td>0.580972</td>\n",
       "      <td>0.023836</td>\n",
       "      <td>0.004217</td>\n",
       "      <td>-0.172864</td>\n",
       "      <td>-0.050395</td>\n",
       "      <td>-0.031510</td>\n",
       "      <td>0.265910</td>\n",
       "      <td>0.001207</td>\n",
       "      <td>0.000653</td>\n",
       "      <td>0.009725</td>\n",
       "      <td>...</td>\n",
       "      <td>-0.032728</td>\n",
       "      <td>-0.000214</td>\n",
       "      <td>-0.063970</td>\n",
       "      <td>-0.001014</td>\n",
       "      <td>-0.017425</td>\n",
       "      <td>-0.057294</td>\n",
       "      <td>-0.000741</td>\n",
       "      <td>-0.007027</td>\n",
       "      <td>1.0</td>\n",
       "      <td>8.456151</td>\n",
       "    </tr>\n",
       "    <tr>\n",
       "      <th>1</th>\n",
       "      <td>0.009848</td>\n",
       "      <td>0.104202</td>\n",
       "      <td>0.119389</td>\n",
       "      <td>0.079951</td>\n",
       "      <td>-0.097514</td>\n",
       "      <td>-0.089965</td>\n",
       "      <td>0.001998</td>\n",
       "      <td>0.001838</td>\n",
       "      <td>-0.002683</td>\n",
       "      <td>-0.053779</td>\n",
       "      <td>...</td>\n",
       "      <td>0.004626</td>\n",
       "      <td>0.000593</td>\n",
       "      <td>-0.006881</td>\n",
       "      <td>0.000569</td>\n",
       "      <td>-0.002701</td>\n",
       "      <td>-0.021346</td>\n",
       "      <td>-0.004816</td>\n",
       "      <td>-0.005994</td>\n",
       "      <td>1.0</td>\n",
       "      <td>7.486084</td>\n",
       "    </tr>\n",
       "    <tr>\n",
       "      <th>2</th>\n",
       "      <td>0.011713</td>\n",
       "      <td>0.030442</td>\n",
       "      <td>0.019109</td>\n",
       "      <td>0.006414</td>\n",
       "      <td>-0.004962</td>\n",
       "      <td>0.002871</td>\n",
       "      <td>0.006360</td>\n",
       "      <td>0.006704</td>\n",
       "      <td>0.000361</td>\n",
       "      <td>0.001722</td>\n",
       "      <td>...</td>\n",
       "      <td>0.002537</td>\n",
       "      <td>0.000121</td>\n",
       "      <td>0.000670</td>\n",
       "      <td>0.002688</td>\n",
       "      <td>-0.002001</td>\n",
       "      <td>-0.008683</td>\n",
       "      <td>-0.004944</td>\n",
       "      <td>0.013858</td>\n",
       "      <td>1.0</td>\n",
       "      <td>7.175171</td>\n",
       "    </tr>\n",
       "    <tr>\n",
       "      <th>3</th>\n",
       "      <td>0.053513</td>\n",
       "      <td>0.120704</td>\n",
       "      <td>0.069297</td>\n",
       "      <td>-0.030864</td>\n",
       "      <td>0.037340</td>\n",
       "      <td>0.013360</td>\n",
       "      <td>0.026196</td>\n",
       "      <td>0.027286</td>\n",
       "      <td>0.005593</td>\n",
       "      <td>0.085179</td>\n",
       "      <td>...</td>\n",
       "      <td>-0.016109</td>\n",
       "      <td>0.002305</td>\n",
       "      <td>0.048134</td>\n",
       "      <td>-0.026402</td>\n",
       "      <td>0.009411</td>\n",
       "      <td>-0.084547</td>\n",
       "      <td>-0.099804</td>\n",
       "      <td>-0.081314</td>\n",
       "      <td>NaN</td>\n",
       "      <td>NaN</td>\n",
       "    </tr>\n",
       "    <tr>\n",
       "      <th>4</th>\n",
       "      <td>0.015687</td>\n",
       "      <td>0.060261</td>\n",
       "      <td>0.017480</td>\n",
       "      <td>-0.021015</td>\n",
       "      <td>0.014019</td>\n",
       "      <td>0.046781</td>\n",
       "      <td>0.003174</td>\n",
       "      <td>0.030464</td>\n",
       "      <td>0.001531</td>\n",
       "      <td>0.024273</td>\n",
       "      <td>...</td>\n",
       "      <td>0.049679</td>\n",
       "      <td>0.000728</td>\n",
       "      <td>0.020931</td>\n",
       "      <td>-0.014137</td>\n",
       "      <td>-0.016058</td>\n",
       "      <td>-0.010756</td>\n",
       "      <td>-0.026628</td>\n",
       "      <td>-0.039425</td>\n",
       "      <td>1.0</td>\n",
       "      <td>2.063409</td>\n",
       "    </tr>\n",
       "  </tbody>\n",
       "</table>\n",
       "<p>5 rows × 22 columns</p>\n",
       "</div>"
      ],
      "text/plain": [
       "          0         1         2         3         4         5         6  \\\n",
       "0  0.580972  0.023836  0.004217 -0.172864 -0.050395 -0.031510  0.265910   \n",
       "1  0.009848  0.104202  0.119389  0.079951 -0.097514 -0.089965  0.001998   \n",
       "2  0.011713  0.030442  0.019109  0.006414 -0.004962  0.002871  0.006360   \n",
       "3  0.053513  0.120704  0.069297 -0.030864  0.037340  0.013360  0.026196   \n",
       "4  0.015687  0.060261  0.017480 -0.021015  0.014019  0.046781  0.003174   \n",
       "\n",
       "          7         8         9      ...             12        13        14  \\\n",
       "0  0.001207  0.000653  0.009725      ...      -0.032728 -0.000214 -0.063970   \n",
       "1  0.001838 -0.002683 -0.053779      ...       0.004626  0.000593 -0.006881   \n",
       "2  0.006704  0.000361  0.001722      ...       0.002537  0.000121  0.000670   \n",
       "3  0.027286  0.005593  0.085179      ...      -0.016109  0.002305  0.048134   \n",
       "4  0.030464  0.001531  0.024273      ...       0.049679  0.000728  0.020931   \n",
       "\n",
       "         15        16        17        18        19  has_date  content_sema  \n",
       "0 -0.001014 -0.017425 -0.057294 -0.000741 -0.007027       1.0      8.456151  \n",
       "1  0.000569 -0.002701 -0.021346 -0.004816 -0.005994       1.0      7.486084  \n",
       "2  0.002688 -0.002001 -0.008683 -0.004944  0.013858       1.0      7.175171  \n",
       "3 -0.026402  0.009411 -0.084547 -0.099804 -0.081314       NaN           NaN  \n",
       "4 -0.014137 -0.016058 -0.010756 -0.026628 -0.039425       1.0      2.063409  \n",
       "\n",
       "[5 rows x 22 columns]"
      ]
     },
     "execution_count": 26,
     "metadata": {},
     "output_type": "execute_result"
    }
   ],
   "source": []
  },
  {
   "cell_type": "code",
   "execution_count": null,
   "metadata": {
    "collapsed": true
   },
   "outputs": [],
   "source": []
  }
 ],
 "metadata": {
  "kernelspec": {
   "display_name": "Python 3",
   "language": "python",
   "name": "python3"
  },
  "language_info": {
   "codemirror_mode": {
    "name": "ipython",
    "version": 3
   },
   "file_extension": ".py",
   "mimetype": "text/x-python",
   "name": "python",
   "nbconvert_exporter": "python",
   "pygments_lexer": "ipython3",
   "version": "3.6.0"
  }
 },
 "nbformat": 4,
 "nbformat_minor": 2
}
